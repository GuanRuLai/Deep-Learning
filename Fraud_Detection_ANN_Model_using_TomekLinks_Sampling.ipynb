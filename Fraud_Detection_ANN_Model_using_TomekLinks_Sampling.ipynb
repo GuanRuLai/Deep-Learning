{
  "cells": [
    {
      "cell_type": "markdown",
      "metadata": {
        "id": "view-in-github",
        "colab_type": "text"
      },
      "source": [
        "<a href=\"https://colab.research.google.com/github/GuanRuLai/Python-Deep-Learning/blob/main/Fraud_Detection_ANN_Model_using_TomekLinks_Sampling.ipynb\" target=\"_parent\"><img src=\"https://colab.research.google.com/assets/colab-badge.svg\" alt=\"Open In Colab\"/></a>"
      ]
    },
    {
      "cell_type": "markdown",
      "metadata": {
        "id": "h-tqlrErYDiP"
      },
      "source": [
        "# Data preprocessing"
      ]
    },
    {
      "cell_type": "markdown",
      "metadata": {
        "id": "aG6aC-yKYILF"
      },
      "source": [
        "## Import dataset"
      ]
    },
    {
      "cell_type": "code",
      "execution_count": null,
      "metadata": {
        "id": "1H4J7_xq8ddK"
      },
      "outputs": [],
      "source": [
        "import pandas as pd\n",
        "df = pd.read_csv('drive/MyDrive/人工智慧實務專題/card_transdata.csv')"
      ]
    },
    {
      "cell_type": "markdown",
      "metadata": {
        "id": "Mojbp58XYNKd"
      },
      "source": [
        "## Split independent variables and dependent variable"
      ]
    },
    {
      "cell_type": "code",
      "execution_count": null,
      "metadata": {
        "colab": {
          "base_uri": "https://localhost:8080/"
        },
        "id": "VOtjjtoHYOnl",
        "outputId": "01e50bca-bba1-4891-a395-ce8c5ca32e29"
      },
      "outputs": [
        {
          "output_type": "stream",
          "name": "stdout",
          "text": [
            "[[57.87785658  0.31114001  1.94593998 ...  1.          0.\n",
            "   0.        ]\n",
            " [10.8299427   0.1755915   1.29421881 ...  0.          0.\n",
            "   0.        ]\n",
            " [ 5.09107949  0.80515259  0.42771456 ...  0.          0.\n",
            "   1.        ]\n",
            " ...\n",
            " [ 2.91485699  1.47268669  0.21807549 ...  1.          0.\n",
            "   1.        ]\n",
            " [ 4.25872939  0.24202337  0.47582206 ...  0.          0.\n",
            "   1.        ]\n",
            " [58.10812496  0.31811012  0.38691985 ...  1.          0.\n",
            "   1.        ]]\n",
            "[[0.]\n",
            " [0.]\n",
            " [0.]\n",
            " ...\n",
            " [0.]\n",
            " [0.]\n",
            " [0.]]\n"
          ]
        }
      ],
      "source": [
        "import os\n",
        "\n",
        "if not os.path.isdir(\"HappyML\"):\n",
        "  os.system(\"git clone https://github.com/cnchi/HappyML.git\")\n",
        "\n",
        "import HappyML.preprocessor as pp\n",
        "import numpy as np\n",
        "\n",
        "X, Y = pp.decomposition(df, x_columns=[i for i in range(7)], y_columns=[-1])\n",
        "X = X.values\n",
        "Y = Y.values\n",
        "print(X)\n",
        "print(Y)"
      ]
    },
    {
      "cell_type": "markdown",
      "metadata": {
        "id": "KZfGh3nc7qnq"
      },
      "source": [
        "## Check if the dataset is imbalanced"
      ]
    },
    {
      "cell_type": "code",
      "execution_count": null,
      "metadata": {
        "colab": {
          "base_uri": "https://localhost:8080/",
          "height": 611
        },
        "id": "ghrn0v3872TV",
        "outputId": "9ef7bc5d-1a48-43af-dcf7-3d8925bc20c4"
      },
      "outputs": [
        {
          "output_type": "stream",
          "name": "stdout",
          "text": [
            "Class 0.0: 912597 samples\n",
            "\n",
            "The proportion of the category in all data: 0.912597\n",
            "\n",
            "Class 1.0: 87403 samples\n",
            "\n",
            "The proportion of the category in all data: 0.087403\n",
            "\n"
          ]
        },
        {
          "output_type": "display_data",
          "data": {
            "text/plain": [
              "<Figure size 640x480 with 1 Axes>"
            ],
            "image/png": "[encoded data removed]"
          },
          "metadata": {}
        }
      ],
      "source": [
        "import numpy as np\n",
        "import matplotlib.pyplot as plt\n",
        "\n",
        "def check_imbalance_and_plot(y):\n",
        "    unique, counts = np.unique(y, return_counts=True)\n",
        "    for label, count in zip(unique, counts):\n",
        "        print(f\"Class {label}: {count} samples\\n\")\n",
        "\n",
        "        total = len(y)\n",
        "        proportion = count / total\n",
        "        print(f\"The proportion of the category in all data: {proportion}\\n\")\n",
        "\n",
        "    plt.bar(unique, counts, color='skyblue')\n",
        "    plt.xlabel('Class')\n",
        "    plt.ylabel('Number of Samples')\n",
        "    plt.title('Class Distribution of card_transdata')\n",
        "    plt.xticks(unique)\n",
        "    plt.show()\n",
        "\n",
        "check_imbalance_and_plot(Y)"
      ]
    },
    {
      "cell_type": "markdown",
      "metadata": {
        "id": "QFBS7EAbYTFu"
      },
      "source": [
        "## Handle missing data"
      ]
    },
    {
      "cell_type": "code",
      "execution_count": null,
      "metadata": {
        "colab": {
          "base_uri": "https://localhost:8080/"
        },
        "id": "ntKmy6DgYUZW",
        "outputId": "a12d1f2d-6647-4dd8-d456-6f1090c0bc0e"
      },
      "outputs": [
        {
          "output_type": "stream",
          "name": "stdout",
          "text": [
            "distance_from_home                0\n",
            "distance_from_last_transaction    0\n",
            "ratio_to_median_purchase_price    0\n",
            "repeat_retailer                   0\n",
            "used_chip                         0\n",
            "used_pin_number                   0\n",
            "online_order                      0\n",
            "fraud                             0\n",
            "dtype: int64\n"
          ]
        }
      ],
      "source": [
        "print(df.isnull().sum())"
      ]
    },
    {
      "cell_type": "markdown",
      "metadata": {
        "id": "Qgfu-wxqYbaw"
      },
      "source": [
        "## Split training set and testing set"
      ]
    },
    {
      "cell_type": "code",
      "execution_count": null,
      "metadata": {
        "colab": {
          "base_uri": "https://localhost:8080/"
        },
        "id": "KoqQCilcYcu3",
        "outputId": "4c17e3d7-3bd2-4e16-9847-4299f606c9fb"
      },
      "outputs": [
        {
          "output_type": "stream",
          "name": "stdout",
          "text": [
            "[[3.51985152e+00 9.89142730e-01 6.34209624e-01 ... 1.00000000e+00\n",
            "  0.00000000e+00 1.00000000e+00]\n",
            " [3.92236191e+01 2.68105400e-02 6.05798372e-01 ... 1.00000000e+00\n",
            "  0.00000000e+00 1.00000000e+00]\n",
            " [5.53889118e+01 9.67726856e-01 4.64450095e-01 ... 0.00000000e+00\n",
            "  0.00000000e+00 1.00000000e+00]\n",
            " ...\n",
            " [2.68070835e+01 4.40967803e+00 4.84272835e-01 ... 0.00000000e+00\n",
            "  1.00000000e+00 0.00000000e+00]\n",
            " [1.21443426e+01 4.08443337e-02 1.79287662e+00 ... 0.00000000e+00\n",
            "  0.00000000e+00 1.00000000e+00]\n",
            " [4.93375070e+01 5.25678996e-01 3.22232714e+00 ... 1.00000000e+00\n",
            "  0.00000000e+00 0.00000000e+00]]\n",
            "[[ 3.66060786  0.10902654  4.30416756 ...  0.          0.\n",
            "   1.        ]\n",
            " [ 0.79312666  1.55401696  0.73468389 ...  0.          0.\n",
            "   1.        ]\n",
            " [ 1.44662928  1.06029302  0.62118212 ...  0.          0.\n",
            "   1.        ]\n",
            " ...\n",
            " [15.38429381  1.12161721  6.02938897 ...  1.          0.\n",
            "   1.        ]\n",
            " [ 7.40735209 50.07064132  0.5213136  ...  1.          0.\n",
            "   0.        ]\n",
            " [ 5.76515306  1.08371062  1.17202026 ...  0.          0.\n",
            "   1.        ]]\n",
            "[[0.]\n",
            " [0.]\n",
            " [0.]\n",
            " ...\n",
            " [0.]\n",
            " [0.]\n",
            " [0.]]\n",
            "[[1.]\n",
            " [0.]\n",
            " [0.]\n",
            " ...\n",
            " [1.]\n",
            " [0.]\n",
            " [0.]]\n"
          ]
        }
      ],
      "source": [
        "from sklearn.model_selection import train_test_split\n",
        "\n",
        "X_train, X_test, Y_train, Y_test = train_test_split(X, Y, test_size = 0.2, random_state=0)\n",
        "print(X_train)\n",
        "print(X_test)\n",
        "print(Y_train)\n",
        "print(Y_test)"
      ]
    },
    {
      "cell_type": "markdown",
      "metadata": {
        "id": "3IaLRn2MCnwD"
      },
      "source": [
        "## Using TomekLinks to undersample majority data"
      ]
    },
    {
      "cell_type": "code",
      "execution_count": null,
      "metadata": {
        "colab": {
          "base_uri": "https://localhost:8080/"
        },
        "id": "_qeGeSRpC0Ab",
        "outputId": "ee5fd9a4-b3d7-4c66-b5df-4b68f165832a"
      },
      "outputs": [
        {
          "output_type": "stream",
          "name": "stdout",
          "text": [
            "[[3.51985152e+00 9.89142730e-01 6.34209624e-01 ... 1.00000000e+00\n",
            "  0.00000000e+00 1.00000000e+00]\n",
            " [3.92236191e+01 2.68105400e-02 6.05798372e-01 ... 1.00000000e+00\n",
            "  0.00000000e+00 1.00000000e+00]\n",
            " [5.53889118e+01 9.67726856e-01 4.64450095e-01 ... 0.00000000e+00\n",
            "  0.00000000e+00 1.00000000e+00]\n",
            " ...\n",
            " [2.68070835e+01 4.40967803e+00 4.84272835e-01 ... 0.00000000e+00\n",
            "  1.00000000e+00 0.00000000e+00]\n",
            " [1.21443426e+01 4.08443337e-02 1.79287662e+00 ... 0.00000000e+00\n",
            "  0.00000000e+00 1.00000000e+00]\n",
            " [4.93375070e+01 5.25678996e-01 3.22232714e+00 ... 1.00000000e+00\n",
            "  0.00000000e+00 0.00000000e+00]]\n",
            "[0. 0. 0. ... 0. 0. 0.]\n"
          ]
        }
      ],
      "source": [
        "from imblearn.under_sampling import TomekLinks\n",
        "\n",
        "X_res, Y_res = TomekLinks().fit_resample(X_train, Y_train)\n",
        "print(X_res)\n",
        "print(Y_res)"
      ]
    },
    {
      "cell_type": "markdown",
      "metadata": {
        "id": "lfbw3rGNYgMX"
      },
      "source": [
        "## Feature scaling"
      ]
    },
    {
      "cell_type": "code",
      "execution_count": null,
      "metadata": {
        "colab": {
          "base_uri": "https://localhost:8080/"
        },
        "id": "qO6TMlgCYhLt",
        "outputId": "f068bde6-5b09-4288-d33c-7b13e78c6864"
      },
      "outputs": [
        {
          "output_type": "stream",
          "name": "stdout",
          "text": [
            "[[-0.3645258  -0.15035942 -0.42930729 ...  1.36231222 -0.33413888\n",
            "   0.73201743]\n",
            " [ 0.2066082  -0.18729249 -0.43965571 ...  1.36231222 -0.33413888\n",
            "   0.73201743]\n",
            " [ 0.46519571 -0.15118134 -0.4911399  ... -0.73404612 -0.33413888\n",
            "   0.73201743]\n",
            " ...\n",
            " [ 0.00798755 -0.01908371 -0.48391973 ... -0.73404612  2.99276751\n",
            "  -1.36608769]\n",
            " [-0.22656445 -0.18675389 -0.00727857 ... -0.73404612 -0.33413888\n",
            "   0.73201743]\n",
            " [ 0.36839463 -0.16814656  0.51337938 ...  1.36231222 -0.33413888\n",
            "  -1.36608769]]\n",
            "[[-0.36227419 -0.18413714  0.90742508 ... -0.73404612 -0.33413888\n",
            "   0.73201743]\n",
            " [-0.40814375 -0.12868028 -0.3927109  ... -0.73404612 -0.33413888\n",
            "   0.73201743]\n",
            " [-0.39769002 -0.14762877 -0.43405239 ... -0.73404612 -0.33413888\n",
            "   0.73201743]\n",
            " ...\n",
            " [-0.17473669 -0.14527523  1.53581356 ...  1.36231222 -0.33413888\n",
            "   0.73201743]\n",
            " [-0.30233954  1.73332489 -0.47042814 ...  1.36231222 -0.33413888\n",
            "  -1.36608769]\n",
            " [-0.32860892 -0.14673003 -0.23341707 ... -0.73404612 -0.33413888\n",
            "   0.73201743]]\n"
          ]
        }
      ],
      "source": [
        "from sklearn.preprocessing import StandardScaler\n",
        "\n",
        "sc_X = StandardScaler()\n",
        "X_res = sc_X.fit_transform(X_res)\n",
        "X_test = sc_X.transform(X_test)\n",
        "print(X_res)\n",
        "print(X_test)"
      ]
    },
    {
      "cell_type": "markdown",
      "metadata": {
        "id": "UVNVgfzEYk86"
      },
      "source": [
        "# Neural network processing"
      ]
    },
    {
      "cell_type": "markdown",
      "metadata": {
        "id": "T_PZDyetYpN1"
      },
      "source": [
        "## Build levels of neural network"
      ]
    },
    {
      "cell_type": "code",
      "execution_count": null,
      "metadata": {
        "colab": {
          "base_uri": "https://localhost:8080/"
        },
        "id": "UY0Eo_V0YqXV",
        "outputId": "984eeb77-e3c3-4be0-c0ca-6378a750ac0b"
      },
      "outputs": [
        {
          "output_type": "stream",
          "name": "stdout",
          "text": [
            "Model: \"sequential\"\n",
            "_________________________________________________________________\n",
            " Layer (type)                Output Shape              Param #   \n",
            "=================================================================\n",
            " dense (Dense)               (None, 25000)             200000    \n",
            "                                                                 \n",
            " dense_1 (Dense)             (None, 8)                 200008    \n",
            "                                                                 \n",
            " dense_2 (Dense)             (None, 1)                 9         \n",
            "                                                                 \n",
            "=================================================================\n",
            "Total params: 400017 (1.53 MB)\n",
            "Trainable params: 400017 (1.53 MB)\n",
            "Non-trainable params: 0 (0.00 Byte)\n",
            "_________________________________________________________________\n",
            "None\n"
          ]
        }
      ],
      "source": [
        "from tensorflow.keras.models import Sequential\n",
        "from tensorflow.keras.layers import Dense\n",
        "\n",
        "model = Sequential()\n",
        "\n",
        "# 1000000/5 * (7 + 1) = 25000\n",
        "model.add(Dense(input_dim=X_train.shape[1], units=25000, kernel_initializer=\"glorot_normal\", activation=\"relu\"))\n",
        "# 10000000/5 * (25000 + 1) = 8\n",
        "model.add(Dense(units=8, kernel_initializer=\"glorot_normal\", activation=\"relu\"))\n",
        "model.add(Dense(units=1, kernel_initializer=\"glorot_normal\", activation=\"sigmoid\"))\n",
        "\n",
        "print(model.summary())"
      ]
    },
    {
      "cell_type": "markdown",
      "metadata": {
        "id": "a5FAI817YuGK"
      },
      "source": [
        "## Model compiling"
      ]
    },
    {
      "cell_type": "code",
      "execution_count": null,
      "metadata": {
        "id": "Mcp1T5-rYwE_"
      },
      "outputs": [],
      "source": [
        "import tensorflow as tf\n",
        "\n",
        "model.compile(optimizer=\"adam\", loss=\"binary_crossentropy\", metrics=[tf.keras.metrics.Recall()])"
      ]
    },
    {
      "cell_type": "markdown",
      "metadata": {
        "id": "P91_2DTwYz7z"
      },
      "source": [
        "## Model adjustment"
      ]
    },
    {
      "cell_type": "code",
      "execution_count": null,
      "metadata": {
        "id": "8UFwewomY2a8"
      },
      "outputs": [],
      "source": [
        "# Load the TensorBoard notebook extension\n",
        "%load_ext tensorboard\n",
        "\n",
        "# Create TensorBoard log directory\n",
        "import os\n",
        "from datetime import datetime\n",
        "from tensorflow.keras.callbacks import TensorBoard\n",
        "\n",
        "logdir = os.path.join(\"logs\", datetime.now().strftime(\"%Y%m%d-%H%M%S\"))\n",
        "tensorboard_callback = TensorBoard(logdir, histogram_freq=1)\n",
        "\n",
        "# Start the TensorBoard\n",
        "%tensorboard --logdir logs"
      ]
    },
    {
      "cell_type": "markdown",
      "metadata": {
        "id": "pzACwfZcY5gD"
      },
      "source": [
        "## Model training"
      ]
    },
    {
      "cell_type": "code",
      "execution_count": null,
      "metadata": {
        "colab": {
          "base_uri": "https://localhost:8080/"
        },
        "id": "e402pMW8Y6fM",
        "outputId": "b6e61063-c727-45c2-ffc9-1a61d22c2a21"
      },
      "outputs": [
        {
          "output_type": "stream",
          "name": "stdout",
          "text": [
            "Epoch 1/8\n",
            "19946/19946 [==============================] - 97s 5ms/step - loss: 0.0226 - recall: 0.9635 - val_loss: 0.0172 - val_recall: 0.9767\n",
            "Epoch 2/8\n",
            "19946/19946 [==============================] - 86s 4ms/step - loss: 0.0096 - recall: 0.9830 - val_loss: 0.0062 - val_recall: 0.9900\n",
            "Epoch 3/8\n",
            "19946/19946 [==============================] - 86s 4ms/step - loss: 0.0079 - recall: 0.9853 - val_loss: 0.0077 - val_recall: 0.9824\n",
            "Epoch 4/8\n",
            "19946/19946 [==============================] - 84s 4ms/step - loss: 0.0070 - recall: 0.9872 - val_loss: 0.0098 - val_recall: 0.9808\n",
            "Epoch 5/8\n",
            "19946/19946 [==============================] - 85s 4ms/step - loss: 0.0064 - recall: 0.9885 - val_loss: 0.0041 - val_recall: 0.9968\n",
            "Epoch 6/8\n",
            "19946/19946 [==============================] - 87s 4ms/step - loss: 0.0059 - recall: 0.9893 - val_loss: 0.0051 - val_recall: 0.9887\n",
            "Epoch 7/8\n",
            "19946/19946 [==============================] - 86s 4ms/step - loss: 0.0056 - recall: 0.9902 - val_loss: 0.0115 - val_recall: 0.9926\n",
            "Epoch 8/8\n",
            "19946/19946 [==============================] - 86s 4ms/step - loss: 0.0055 - recall: 0.9904 - val_loss: 0.0046 - val_recall: 0.9956\n"
          ]
        }
      ],
      "source": [
        "epochs_metrics = model.fit(X_res, Y_res, validation_split=0.2, batch_size=32, epochs=8, callbacks=[tensorboard_callback])"
      ]
    },
    {
      "cell_type": "markdown",
      "metadata": {
        "id": "ljX4qcxiZCG6"
      },
      "source": [
        "## Model prediction"
      ]
    },
    {
      "cell_type": "code",
      "execution_count": null,
      "metadata": {
        "colab": {
          "base_uri": "https://localhost:8080/"
        },
        "id": "LqRDoqsLZECV",
        "outputId": "7335090c-b83d-4abe-dfbb-0c75b6fd090d"
      },
      "outputs": [
        {
          "output_type": "stream",
          "name": "stdout",
          "text": [
            "6250/6250 [==============================] - 10s 2ms/step\n",
            "        true_fraud  pred_fraud\n",
            "0              1.0         1.0\n",
            "1              0.0         0.0\n",
            "2              0.0         0.0\n",
            "3              0.0         0.0\n",
            "4              1.0         1.0\n",
            "...            ...         ...\n",
            "199995         0.0         0.0\n",
            "199996         1.0         1.0\n",
            "199997         1.0         1.0\n",
            "199998         0.0         0.0\n",
            "199999         0.0         0.0\n",
            "\n",
            "[200000 rows x 2 columns]\n"
          ]
        }
      ],
      "source": [
        "Y_pred = pd.DataFrame(np.rint(model.predict(X_test)), columns=[\"pred_fraud\"])\n",
        "Y_test = pd.DataFrame(Y_test, columns=[\"true_fraud\"])\n",
        "df = pd.concat([Y_test, Y_pred], axis=1)\n",
        "print(df)"
      ]
    },
    {
      "cell_type": "markdown",
      "metadata": {
        "id": "YzgopFLaY_l5"
      },
      "source": [
        "## Model evaluation"
      ]
    },
    {
      "cell_type": "markdown",
      "metadata": {
        "id": "nyvd_9_1GNa4"
      },
      "source": [
        "### Test loss & recall"
      ]
    },
    {
      "cell_type": "code",
      "execution_count": null,
      "metadata": {
        "colab": {
          "base_uri": "https://localhost:8080/"
        },
        "id": "tTaDj-T-ZAvZ",
        "outputId": "3bbe45a0-5457-44cd-9d31-85a200893fdd"
      },
      "outputs": [
        {
          "output_type": "stream",
          "name": "stdout",
          "text": [
            "6250/6250 [==============================] - 14s 2ms/step - loss: 0.0058 - recall: 0.9950\n",
            "Loss of Testing Set: 0.005801873747259378\n",
            "Recall of Testing Set: 0.9949957132339478\n"
          ]
        }
      ],
      "source": [
        "test_loss, test_recall = model.evaluate(X_test, Y_test)\n",
        "print(\"Loss of Testing Set:\", test_loss)\n",
        "print(\"Recall of Testing Set:\", test_recall)"
      ]
    },
    {
      "cell_type": "markdown",
      "metadata": {
        "id": "ypUSpGz2ZLzs"
      },
      "source": [
        "### Making the confusion matrix"
      ]
    },
    {
      "cell_type": "code",
      "execution_count": null,
      "metadata": {
        "colab": {
          "base_uri": "https://localhost:8080/",
          "height": 494
        },
        "id": "-2U-Y0tGZOp0",
        "outputId": "83aa2294-2bbd-46fb-960f-f3f5cefec568"
      },
      "outputs": [
        {
          "output_type": "display_data",
          "data": {
            "text/plain": [
              "<Figure size 640x480 with 1 Axes>"
            ],
            "image/png": "[encoded data removed]"
          },
          "metadata": {}
        }
      ],
      "source": [
        "import seaborn as sns\n",
        "from sklearn.metrics import confusion_matrix\n",
        "\n",
        "cm = confusion_matrix(Y_test, Y_pred)\n",
        "\n",
        "sns.set(font_scale=1.4)\n",
        "sns.heatmap(cm, annot=True, fmt='g', cmap='Blues', cbar=False, annot_kws={\"size\": 16}, square=True)\n",
        "plt.xlabel('Predicted labels')\n",
        "plt.ylabel('True labels')\n",
        "plt.title('Confusion Matrix')\n",
        "plt.show()"
      ]
    },
    {
      "cell_type": "markdown",
      "metadata": {
        "id": "qgoSgFJmHXM6"
      },
      "source": [
        "### Making ROC curve"
      ]
    },
    {
      "cell_type": "code",
      "execution_count": null,
      "metadata": {
        "colab": {
          "base_uri": "https://localhost:8080/",
          "height": 494
        },
        "id": "GQejX02xHa0K",
        "outputId": "bfd4fdbf-b67c-4858-819d-37c71fd5f98b"
      },
      "outputs": [
        {
          "output_type": "display_data",
          "data": {
            "text/plain": [
              "<Figure size 640x480 with 1 Axes>"
            ],
            "image/png": "[encoded data removed]"
          },
          "metadata": {}
        }
      ],
      "source": [
        "from sklearn.metrics import roc_curve, auc\n",
        "\n",
        "fpr, tpr, thresholds = roc_curve(Y_test, Y_pred)\n",
        "roc_auc = auc(fpr, tpr)\n",
        "\n",
        "plt.figure()\n",
        "lw = 2\n",
        "plt.plot(fpr, tpr, color='red', lw=lw, label='ROC curve (area = %0.2f)' % roc_auc)\n",
        "plt.plot([0, 1], [0, 1], color='navy', lw=lw, linestyle='--')\n",
        "plt.xlim([0.0, 1.0])\n",
        "plt.ylim([0.0, 1.05])\n",
        "plt.xlabel('False Positive Rate')\n",
        "plt.ylabel('True Positive Rate')\n",
        "plt.title('ROC Curve')\n",
        "plt.legend(loc=\"lower right\")\n",
        "plt.show()"
      ]
    },
    {
      "cell_type": "markdown",
      "metadata": {
        "id": "Anu6v7HwZGxE"
      },
      "source": [
        "## Answer prediction"
      ]
    },
    {
      "cell_type": "code",
      "execution_count": null,
      "metadata": {
        "colab": {
          "base_uri": "https://localhost:8080/"
        },
        "id": "y4NL-VUXZJGp",
        "outputId": "bd8eb31e-0bc6-488d-91b9-3022f79f2c83"
      },
      "outputs": [
        {
          "output_type": "stream",
          "name": "stdout",
          "text": [
            "1/1 [==============================] - 0s 105ms/step\n",
            "The probability of the person being defrauded: 0.99770206\n",
            "The person is in high risk of being defrauded, needing to be monitored.\n"
          ]
        }
      ],
      "source": [
        "test_case = model.predict(sc_X.transform([[3.803057351, 67.24108053, 1.872949614, 1, 0, 0, 1]]))\n",
        "\n",
        "prediction = test_case[0][0]\n",
        "print(\"The probability of the person being defrauded:\", prediction)\n",
        "if prediction > 0.5:\n",
        "    print(\"The person is in high risk of being defrauded, needing to be monitored.\")\n",
        "else:\n",
        "    print(\"The person is in low risk of being defrauded, don't worry.\")"
      ]
    }
  ],
  "metadata": {
    "accelerator": "GPU",
    "colab": {
      "gpuType": "T4",
      "provenance": [],
      "include_colab_link": true
    },
    "kernelspec": {
      "display_name": "Python 3",
      "name": "python3"
    },
    "language_info": {
      "name": "python"
    }
  },
  "nbformat": 4,
  "nbformat_minor": 0
}