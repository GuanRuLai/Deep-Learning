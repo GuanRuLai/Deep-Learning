{
  "nbformat": 4,
  "nbformat_minor": 0,
  "metadata": {
    "colab": {
      "provenance": [],
      "toc_visible": true,
      "gpuType": "T4",
      "authorship_tag": "ABX9TyPazqO70009Fls6poQ0yEku",
      "include_colab_link": true
    },
    "kernelspec": {
      "name": "python3",
      "display_name": "Python 3"
    },
    "language_info": {
      "name": "python"
    },
    "accelerator": "GPU"
  },
  "cells": [
    {
      "cell_type": "markdown",
      "metadata": {
        "id": "view-in-github",
        "colab_type": "text"
      },
      "source": [
        "<a href=\"https://colab.research.google.com/github/GuanRuLai/Deep-Learning/blob/main/Linear_Regression.ipynb\" target=\"_parent\"><img src=\"https://colab.research.google.com/assets/colab-badge.svg\" alt=\"Open In Colab\"/></a>"
      ]
    },
    {
      "cell_type": "markdown",
      "source": [
        "# Data preprocessing"
      ],
      "metadata": {
        "id": "rz9pxQBbuWsb"
      }
    },
    {
      "cell_type": "markdown",
      "source": [
        "##Import dataset"
      ],
      "metadata": {
        "id": "Z2YBhQ-knUGU"
      }
    },
    {
      "cell_type": "code",
      "execution_count": null,
      "metadata": {
        "colab": {
          "base_uri": "https://localhost:8080/"
        },
        "id": "A1X8QMjoZ06Q",
        "outputId": "91473091-4f38-4c37-bc11-c3419c080eb2"
      },
      "outputs": [
        {
          "output_type": "stream",
          "name": "stdout",
          "text": [
            "Index(['model', 'year', 'transmission', 'mileage', 'fuelType', 'tax', 'mpg',\n",
            "       'engineSize', 'price'],\n",
            "      dtype='object')\n"
          ]
        }
      ],
      "source": [
        "import os\n",
        "if not os.path.isdir(\"HappyML\"):\n",
        "  os.system(\"git clone https://github.com/cnchi/HappyML.git\")\n",
        "\n",
        "import pandas as pd\n",
        "df = pd.read_csv(\"ToyotaUsedCars.csv\")\n",
        "\n",
        "# check the columns of the data\n",
        "print(df.keys())"
      ]
    },
    {
      "cell_type": "markdown",
      "source": [
        "##Split independent variables and dependent variable"
      ],
      "metadata": {
        "id": "Yx9nR0R_n10I"
      }
    },
    {
      "cell_type": "code",
      "source": [
        "import HappyML.preprocessor as pp\n",
        "\n",
        "X, Y = pp.decomposition(dataset=df, x_columns=[i for i in range(8)], y_columns=[8])\n",
        "print(X)\n",
        "print(Y)"
      ],
      "metadata": {
        "colab": {
          "base_uri": "https://localhost:8080/"
        },
        "id": "KcOe-xQ3n41u",
        "outputId": "1739b92c-d2ce-4e23-da89-d0288e265034"
      },
      "execution_count": null,
      "outputs": [
        {
          "output_type": "stream",
          "name": "stdout",
          "text": [
            "               model  year transmission  mileage fuelType  tax   mpg  \\\n",
            "0               GT86  2016       Manual    24089   Petrol  265  36.2   \n",
            "1               GT86  2017       Manual    18615   Petrol  145  36.2   \n",
            "2               GT86  2015       Manual    27469   Petrol  265  36.2   \n",
            "3               GT86  2017       Manual    14736   Petrol  150  36.2   \n",
            "4               GT86  2017       Manual    36284   Petrol  145  36.2   \n",
            "...              ...   ...          ...      ...      ...  ...   ...   \n",
            "6733              IQ  2011    Automatic    30000   Petrol   20  58.9   \n",
            "6734   Urban Cruiser  2011       Manual    36154   Petrol  125  50.4   \n",
            "6735   Urban Cruiser  2012       Manual    46000   Diesel  125  57.6   \n",
            "6736   Urban Cruiser  2011       Manual    60700   Petrol  125  50.4   \n",
            "6737   Urban Cruiser  2011       Manual    45128   Petrol  125  50.4   \n",
            "\n",
            "      engineSize  \n",
            "0            2.0  \n",
            "1            2.0  \n",
            "2            2.0  \n",
            "3            2.0  \n",
            "4            2.0  \n",
            "...          ...  \n",
            "6733         1.0  \n",
            "6734         1.3  \n",
            "6735         1.4  \n",
            "6736         1.3  \n",
            "6737         1.3  \n",
            "\n",
            "[6738 rows x 8 columns]\n",
            "      price\n",
            "0     16000\n",
            "1     15995\n",
            "2     13998\n",
            "3     18998\n",
            "4     17498\n",
            "...     ...\n",
            "6733   5500\n",
            "6734   4985\n",
            "6735   4995\n",
            "6736   3995\n",
            "6737   4495\n",
            "\n",
            "[6738 rows x 1 columns]\n"
          ]
        }
      ]
    },
    {
      "cell_type": "markdown",
      "source": [
        "##Handle missing data"
      ],
      "metadata": {
        "id": "VAAJ96HCprFf"
      }
    },
    {
      "cell_type": "code",
      "source": [
        "print(df.isnull().sum())"
      ],
      "metadata": {
        "colab": {
          "base_uri": "https://localhost:8080/"
        },
        "id": "TzUOVYC4ptBu",
        "outputId": "8c309066-a174-4ecd-f246-57c2d1d28291"
      },
      "execution_count": null,
      "outputs": [
        {
          "output_type": "stream",
          "name": "stdout",
          "text": [
            "model           0\n",
            "year            0\n",
            "transmission    0\n",
            "mileage         0\n",
            "fuelType        0\n",
            "tax             0\n",
            "mpg             0\n",
            "engineSize      0\n",
            "price           0\n",
            "dtype: int64\n"
          ]
        }
      ]
    },
    {
      "cell_type": "markdown",
      "source": [
        "##Digitalize categorical data"
      ],
      "metadata": {
        "id": "iIrkmHYnp4u6"
      }
    },
    {
      "cell_type": "code",
      "source": [
        "X = pp.onehot_encoder(X, columns = [0, 2, 4], remove_trap=True)\n",
        "print(X)"
      ],
      "metadata": {
        "colab": {
          "base_uri": "https://localhost:8080/"
        },
        "id": "5AlRduy5qF9h",
        "outputId": "e90ec540-18d7-4eab-9a05-0877cc82ce1b"
      },
      "execution_count": null,
      "outputs": [
        {
          "output_type": "stream",
          "name": "stdout",
          "text": [
            "      model_ Avensis_1  model_ Aygo  model_ C-HR_1  model_ Camry  \\\n",
            "0                    0            0              0             0   \n",
            "1                    0            0              0             0   \n",
            "2                    0            0              0             0   \n",
            "3                    0            0              0             0   \n",
            "4                    0            0              0             0   \n",
            "...                ...          ...            ...           ...   \n",
            "6733                 0            0              0             0   \n",
            "6734                 0            0              0             0   \n",
            "6735                 0            0              0             0   \n",
            "6736                 0            0              0             0   \n",
            "6737                 0            0              0             0   \n",
            "\n",
            "      model_ Corolla_1  model_ GT86  model_ Hilux  model_ IQ  \\\n",
            "0                    0            1             0          0   \n",
            "1                    0            1             0          0   \n",
            "2                    0            1             0          0   \n",
            "3                    0            1             0          0   \n",
            "4                    0            1             0          0   \n",
            "...                ...          ...           ...        ...   \n",
            "6733                 0            0             0          1   \n",
            "6734                 0            0             0          0   \n",
            "6735                 0            0             0          0   \n",
            "6736                 0            0             0          0   \n",
            "6737                 0            0             0          0   \n",
            "\n",
            "      model_ Land Cruiser  model_ PROACE VERSO  ...  transmission_Manual  \\\n",
            "0                       0                    0  ...                    1   \n",
            "1                       0                    0  ...                    1   \n",
            "2                       0                    0  ...                    1   \n",
            "3                       0                    0  ...                    1   \n",
            "4                       0                    0  ...                    1   \n",
            "...                   ...                  ...  ...                  ...   \n",
            "6733                    0                    0  ...                    0   \n",
            "6734                    0                    0  ...                    1   \n",
            "6735                    0                    0  ...                    1   \n",
            "6736                    0                    0  ...                    1   \n",
            "6737                    0                    0  ...                    1   \n",
            "\n",
            "      transmission_Other  transmission_Semi-Auto  mileage  fuelType_Hybrid  \\\n",
            "0                      0                       0    24089                0   \n",
            "1                      0                       0    18615                0   \n",
            "2                      0                       0    27469                0   \n",
            "3                      0                       0    14736                0   \n",
            "4                      0                       0    36284                0   \n",
            "...                  ...                     ...      ...              ...   \n",
            "6733                   0                       0    30000                0   \n",
            "6734                   0                       0    36154                0   \n",
            "6735                   0                       0    46000                0   \n",
            "6736                   0                       0    60700                0   \n",
            "6737                   0                       0    45128                0   \n",
            "\n",
            "      fuelType_Other  fuelType_Petrol  tax   mpg  engineSize  \n",
            "0                  0                1  265  36.2         2.0  \n",
            "1                  0                1  145  36.2         2.0  \n",
            "2                  0                1  265  36.2         2.0  \n",
            "3                  0                1  150  36.2         2.0  \n",
            "4                  0                1  145  36.2         2.0  \n",
            "...              ...              ...  ...   ...         ...  \n",
            "6733               0                1   20  58.9         1.0  \n",
            "6734               0                1  125  50.4         1.3  \n",
            "6735               0                0  125  57.6         1.4  \n",
            "6736               0                1  125  50.4         1.3  \n",
            "6737               0                1  125  50.4         1.3  \n",
            "\n",
            "[6738 rows x 28 columns]\n"
          ]
        }
      ]
    },
    {
      "cell_type": "markdown",
      "source": [
        "##Split training set and testing set"
      ],
      "metadata": {
        "id": "4eynfgOErcym"
      }
    },
    {
      "cell_type": "code",
      "source": [
        "from sklearn.model_selection import train_test_split\n",
        "X_train, X_test, Y_train, Y_test = train_test_split(X, Y, test_size=0.2, random_state=0)\n",
        "print(X_train)\n",
        "print(X_test)\n",
        "print(Y_train)\n",
        "print(Y_test)"
      ],
      "metadata": {
        "colab": {
          "base_uri": "https://localhost:8080/"
        },
        "id": "_a7AIJVvri8N",
        "outputId": "4aeb7bfc-3a93-415f-ef10-0e768e21d5d8"
      },
      "execution_count": null,
      "outputs": [
        {
          "output_type": "stream",
          "name": "stdout",
          "text": [
            "      model_ Avensis  model_ Aygo  model_ C-HR  model_ Camry  model_ Corolla  \\\n",
            "3943               0            1            0             0               0   \n",
            "2632               0            0            0             0               0   \n",
            "828                0            0            0             0               0   \n",
            "1371               0            0            0             0               0   \n",
            "3051               0            0            0             0               0   \n",
            "...              ...          ...          ...           ...             ...   \n",
            "4931               0            1            0             0               0   \n",
            "3264               0            0            0             0               0   \n",
            "1653               0            0            0             0               0   \n",
            "2607               0            0            0             0               0   \n",
            "2732               0            0            0             0               0   \n",
            "\n",
            "      model_ GT86  model_ Hilux  model_ IQ  model_ Land Cruiser  \\\n",
            "3943            0             0          0                    0   \n",
            "2632            0             0          0                    0   \n",
            "828             0             0          0                    0   \n",
            "1371            0             0          0                    0   \n",
            "3051            0             0          0                    0   \n",
            "...           ...           ...        ...                  ...   \n",
            "4931            0             0          0                    0   \n",
            "3264            0             0          0                    0   \n",
            "1653            0             0          0                    0   \n",
            "2607            0             0          0                    0   \n",
            "2732            0             0          0                    0   \n",
            "\n",
            "      model_ PROACE VERSO  ...  transmission_Manual  transmission_Other  \\\n",
            "3943                    0  ...                    1                   0   \n",
            "2632                    0  ...                    1                   0   \n",
            "828                     0  ...                    1                   0   \n",
            "1371                    0  ...                    1                   0   \n",
            "3051                    0  ...                    1                   0   \n",
            "...                   ...  ...                  ...                 ...   \n",
            "4931                    0  ...                    0                   0   \n",
            "3264                    0  ...                    0                   0   \n",
            "1653                    0  ...                    1                   0   \n",
            "2607                    0  ...                    1                   0   \n",
            "2732                    0  ...                    0                   0   \n",
            "\n",
            "      transmission_Semi-Auto  mileage  fuelType_Hybrid  fuelType_Other  \\\n",
            "3943                       0    19062                0               0   \n",
            "2632                       0     1209                0               0   \n",
            "828                        0    61170                0               0   \n",
            "1371                       0     6907                0               0   \n",
            "3051                       0    11529                0               0   \n",
            "...                      ...      ...              ...             ...   \n",
            "4931                       1    15999                0               0   \n",
            "3264                       0    48315                1               0   \n",
            "1653                       0     1769                0               0   \n",
            "2607                       0    61000                0               0   \n",
            "2732                       0    18255                1               0   \n",
            "\n",
            "      fuelType_Petrol  tax   mpg  engineSize  \n",
            "3943                1    0  69.0         1.0  \n",
            "2632                1  145  47.9         1.5  \n",
            "828                 1   30  58.9         1.0  \n",
            "1371                1  145  47.9         1.5  \n",
            "3051                1   30  58.9         1.2  \n",
            "...               ...  ...   ...         ...  \n",
            "4931                1    0  67.0         1.0  \n",
            "3264                0    0  72.4         1.8  \n",
            "1653                1  145  47.9         1.5  \n",
            "2607                1   30  55.4         1.3  \n",
            "2732                0    0  86.0         1.5  \n",
            "\n",
            "[5390 rows x 28 columns]\n",
            "      model_ Avensis  model_ Aygo  model_ C-HR  model_ Camry  model_ Corolla  \\\n",
            "2527               0            0            0             0               0   \n",
            "134                0            0            0             0               1   \n",
            "4844               0            1            0             0               0   \n",
            "3638               0            0            0             0               0   \n",
            "98                 0            0            0             0               1   \n",
            "...              ...          ...          ...           ...             ...   \n",
            "3214               0            0            0             0               0   \n",
            "1042               0            0            0             0               0   \n",
            "1116               0            0            0             0               0   \n",
            "5723               0            0            1             0               0   \n",
            "1362               0            0            0             0               0   \n",
            "\n",
            "      model_ GT86  model_ Hilux  model_ IQ  model_ Land Cruiser  \\\n",
            "2527            0             0          0                    0   \n",
            "134             0             0          0                    0   \n",
            "4844            0             0          0                    0   \n",
            "3638            0             0          0                    0   \n",
            "98              0             0          0                    0   \n",
            "...           ...           ...        ...                  ...   \n",
            "3214            0             0          0                    0   \n",
            "1042            0             0          0                    0   \n",
            "1116            0             0          0                    0   \n",
            "5723            0             0          0                    0   \n",
            "1362            0             0          0                    0   \n",
            "\n",
            "      model_ PROACE VERSO  ...  transmission_Manual  transmission_Other  \\\n",
            "2527                    0  ...                    0                   0   \n",
            "134                     0  ...                    1                   0   \n",
            "4844                    0  ...                    1                   0   \n",
            "3638                    0  ...                    0                   0   \n",
            "98                      0  ...                    1                   0   \n",
            "...                   ...  ...                  ...                 ...   \n",
            "3214                    0  ...                    0                   0   \n",
            "1042                    0  ...                    1                   0   \n",
            "1116                    0  ...                    1                   0   \n",
            "5723                    0  ...                    0                   0   \n",
            "1362                    0  ...                    0                   0   \n",
            "\n",
            "      transmission_Semi-Auto  mileage  fuelType_Hybrid  fuelType_Other  \\\n",
            "2527                       0    34465                1               0   \n",
            "134                        0     1436                0               0   \n",
            "4844                       0     3621                0               0   \n",
            "3638                       0    11850                1               0   \n",
            "98                         0     3500                0               0   \n",
            "...                      ...      ...              ...             ...   \n",
            "3214                       0    22457                1               0   \n",
            "1042                       0    22268                0               0   \n",
            "1116                       0    21134                0               0   \n",
            "5723                       0     8758                1               0   \n",
            "1362                       0    21393                1               0   \n",
            "\n",
            "      fuelType_Petrol  tax   mpg  engineSize  \n",
            "2527                0    0  78.0         1.5  \n",
            "134                 1  145  39.2         1.2  \n",
            "4844                1  145  56.5         1.0  \n",
            "3638                0    0  70.6         1.8  \n",
            "98                  1  145  39.2         1.2  \n",
            "...               ...  ...   ...         ...  \n",
            "3214                0  140  72.4         1.8  \n",
            "1042                1  150  58.9         1.5  \n",
            "1116                1  145  58.9         1.5  \n",
            "5723                0  135  74.3         1.8  \n",
            "1362                0    0  78.5         1.5  \n",
            "\n",
            "[1348 rows x 28 columns]\n",
            "      price\n",
            "3943   6995\n",
            "2632  13491\n",
            "828    4850\n",
            "1371  11695\n",
            "3051  11250\n",
            "...     ...\n",
            "4931   7440\n",
            "3264  12995\n",
            "1653  11990\n",
            "2607   3995\n",
            "2732  11995\n",
            "\n",
            "[5390 rows x 1 columns]\n",
            "      price\n",
            "2527  11295\n",
            "134   18995\n",
            "4844   8950\n",
            "3638   9995\n",
            "98    15990\n",
            "...     ...\n",
            "3214  13998\n",
            "1042  10495\n",
            "1116   9233\n",
            "5723  22498\n",
            "1362  12295\n",
            "\n",
            "[1348 rows x 1 columns]\n"
          ]
        }
      ]
    },
    {
      "cell_type": "markdown",
      "source": [
        "##Feature scaling"
      ],
      "metadata": {
        "id": "UIRq4Og6t0oP"
      }
    },
    {
      "cell_type": "code",
      "source": [
        "print(X.describe(include = \"all\"))\n",
        "\n",
        "from sklearn.preprocessing import StandardScaler\n",
        "sc_X = StandardScaler().fit(X_train)\n",
        "X_train = sc_X.transform(X_train)\n",
        "X_test = sc_X.transform(X_test)\n",
        "print(X_train)\n",
        "print(X_test)"
      ],
      "metadata": {
        "colab": {
          "base_uri": "https://localhost:8080/"
        },
        "id": "uNePYYigt06g",
        "outputId": "af212131-c22a-45a0-b7c6-b9f587d7eb6d"
      },
      "execution_count": null,
      "outputs": [
        {
          "output_type": "stream",
          "name": "stdout",
          "text": [
            "       model_ Avensis  model_ Aygo  model_ C-HR  model_ Camry  model_ Corolla  \\\n",
            "count     6738.000000  6738.000000  6738.000000   6738.000000     6738.000000   \n",
            "mean         0.017067     0.291036     0.071089      0.001633        0.039626   \n",
            "std          0.129532     0.454274     0.256993      0.040375        0.195093   \n",
            "min          0.000000     0.000000     0.000000      0.000000        0.000000   \n",
            "25%          0.000000     0.000000     0.000000      0.000000        0.000000   \n",
            "50%          0.000000     0.000000     0.000000      0.000000        0.000000   \n",
            "75%          0.000000     1.000000     0.000000      0.000000        0.000000   \n",
            "max          1.000000     1.000000     1.000000      1.000000        1.000000   \n",
            "\n",
            "       model_ GT86  model_ Hilux    model_ IQ  model_ Land Cruiser  \\\n",
            "count  6738.000000   6738.000000  6738.000000          6738.000000   \n",
            "mean      0.010834      0.012763     0.001187             0.007569   \n",
            "std       0.103529      0.112260     0.034439             0.086677   \n",
            "min       0.000000      0.000000     0.000000             0.000000   \n",
            "25%       0.000000      0.000000     0.000000             0.000000   \n",
            "50%       0.000000      0.000000     0.000000             0.000000   \n",
            "75%       0.000000      0.000000     0.000000             0.000000   \n",
            "max       1.000000      1.000000     1.000000             1.000000   \n",
            "\n",
            "       model_ PROACE VERSO  ...  transmission_Manual  transmission_Other  \\\n",
            "count          6738.000000  ...          6738.000000         6738.000000   \n",
            "mean              0.002226  ...             0.567824            0.000148   \n",
            "std               0.047133  ...             0.495415            0.012182   \n",
            "min               0.000000  ...             0.000000            0.000000   \n",
            "25%               0.000000  ...             0.000000            0.000000   \n",
            "50%               0.000000  ...             1.000000            0.000000   \n",
            "75%               0.000000  ...             1.000000            0.000000   \n",
            "max               1.000000  ...             1.000000            1.000000   \n",
            "\n",
            "       transmission_Semi-Auto        mileage  fuelType_Hybrid  fuelType_Other  \\\n",
            "count             6738.000000    6738.000000      6738.000000     6738.000000   \n",
            "mean                 0.037697   22857.413921         0.303206        0.015583   \n",
            "std                  0.190476   19125.464147         0.459677        0.123866   \n",
            "min                  0.000000       2.000000         0.000000        0.000000   \n",
            "25%                  0.000000    9446.000000         0.000000        0.000000   \n",
            "50%                  0.000000   18513.000000         0.000000        0.000000   \n",
            "75%                  0.000000   31063.750000         1.000000        0.000000   \n",
            "max                  1.000000  174419.000000         1.000000        1.000000   \n",
            "\n",
            "       fuelType_Petrol          tax          mpg   engineSize  \n",
            "count      6738.000000  6738.000000  6738.000000  6738.000000  \n",
            "mean          0.606560    94.697240    63.042223     1.471297  \n",
            "std           0.488549    73.880776    15.836710     0.436159  \n",
            "min           0.000000     0.000000     2.800000     0.000000  \n",
            "25%           0.000000     0.000000    55.400000     1.000000  \n",
            "50%           1.000000   135.000000    62.800000     1.500000  \n",
            "75%           1.000000   145.000000    69.000000     1.800000  \n",
            "max           1.000000   565.000000   235.000000     4.500000  \n",
            "\n",
            "[8 rows x 28 columns]\n",
            "[[-0.13177649  1.56617841 -0.2792848  ... -1.28400007  0.37953844\n",
            "  -1.08498088]\n",
            " [-0.13177649 -0.63849686 -0.2792848  ...  0.67778175 -0.98330515\n",
            "   0.0582876 ]\n",
            " [-0.13177649 -0.63849686 -0.2792848  ... -0.87811418 -0.27281797\n",
            "  -1.08498088]\n",
            " ...\n",
            " [-0.13177649 -0.63849686 -0.2792848  ...  0.67778175 -0.98330515\n",
            "   0.0582876 ]\n",
            " [-0.13177649 -0.63849686 -0.2792848  ... -0.87811418 -0.49888207\n",
            "  -0.39901979]\n",
            " [-0.13177649 -0.63849686 -0.2792848  ... -1.28400007  1.47756408\n",
            "   0.0582876 ]]\n",
            "[[-0.13177649 -0.63849686 -0.2792848  ... -1.28400007  0.96084613\n",
            "   0.0582876 ]\n",
            " [-0.13177649 -0.63849686 -0.2792848  ...  0.67778175 -1.54523592\n",
            "  -0.62767348]\n",
            " [-0.13177649  1.56617841 -0.2792848  ...  0.67778175 -0.42783335\n",
            "  -1.08498088]\n",
            " ...\n",
            " [-0.13177649 -0.63849686 -0.2792848  ...  0.67778175 -0.27281797\n",
            "   0.0582876 ]\n",
            " [-0.13177649 -0.63849686  3.58057437 ...  0.54248645  0.72186408\n",
            "   0.74424869]\n",
            " [-0.13177649 -0.63849686 -0.2792848  ... -1.28400007  0.99314101\n",
            "   0.0582876 ]]\n"
          ]
        }
      ]
    },
    {
      "cell_type": "markdown",
      "source": [
        "# Neural network processing"
      ],
      "metadata": {
        "id": "dKl-6DpMutbG"
      }
    },
    {
      "cell_type": "markdown",
      "source": [
        "##Build levels of neural network"
      ],
      "metadata": {
        "id": "ZjukOiPcvBwg"
      }
    },
    {
      "cell_type": "code",
      "source": [
        "from tensorflow.keras.models import Sequential\n",
        "from tensorflow.keras.layers import Dense\n",
        "\n",
        "model = Sequential()\n",
        "\n",
        "# 6738 / 5(8 + 1) = 149.7\n",
        "model.add(Dense(input_dim=X_train.shape[1], units=150, kernel_initializer=\"glorot_normal\", activation=\"relu\"))\n",
        "# 6738 / 5(150 + 1) = 8.9\n",
        "model.add(Dense(units=9, kernel_initializer=\"glorot_normal\", activation=\"relu\"))\n",
        "model.add(Dense(units=1, kernel_initializer=\"glorot_normal\", activation=\"linear\"))\n",
        "\n",
        "print(model.summary()) # 了解神經網路各層級架構\n",
        "print(model.inputs) # 了解「輸入層」架構\n",
        "print(model.outputs) # 了解「輸出層」架構"
      ],
      "metadata": {
        "colab": {
          "base_uri": "https://localhost:8080/"
        },
        "id": "JyzE6M3ZvKcx",
        "outputId": "354c12c8-0f28-429b-dbda-b571c3652e46"
      },
      "execution_count": null,
      "outputs": [
        {
          "output_type": "stream",
          "name": "stdout",
          "text": [
            "Model: \"sequential_3\"\n",
            "_________________________________________________________________\n",
            " Layer (type)                Output Shape              Param #   \n",
            "=================================================================\n",
            " dense_9 (Dense)             (None, 150)               4350      \n",
            "                                                                 \n",
            " dense_10 (Dense)            (None, 9)                 1359      \n",
            "                                                                 \n",
            " dense_11 (Dense)            (None, 1)                 10        \n",
            "                                                                 \n",
            "=================================================================\n",
            "Total params: 5719 (22.34 KB)\n",
            "Trainable params: 5719 (22.34 KB)\n",
            "Non-trainable params: 0 (0.00 Byte)\n",
            "_________________________________________________________________\n",
            "None\n",
            "[<KerasTensor: shape=(None, 28) dtype=float32 (created by layer 'dense_9_input')>]\n",
            "[<KerasTensor: shape=(None, 1) dtype=float32 (created by layer 'dense_11')>]\n"
          ]
        }
      ]
    },
    {
      "cell_type": "markdown",
      "source": [
        "##Model compiling"
      ],
      "metadata": {
        "id": "TEr5C0x5yK07"
      }
    },
    {
      "cell_type": "code",
      "source": [
        "model.compile(optimizer=\"adam\", loss=\"mse\", metrics=[\"mse\"])"
      ],
      "metadata": {
        "id": "VlQpbOqHyMdU"
      },
      "execution_count": null,
      "outputs": []
    },
    {
      "cell_type": "markdown",
      "source": [
        "##Model training"
      ],
      "metadata": {
        "id": "IehpEkLVyaOl"
      }
    },
    {
      "cell_type": "code",
      "source": [
        "epochs_metrics = model.fit(x=X_train, y=Y_train, validation_split=0.2, batch_size=5, epochs=50)"
      ],
      "metadata": {
        "colab": {
          "base_uri": "https://localhost:8080/"
        },
        "id": "-e7Yef0CyftV",
        "outputId": "5933e108-ca09-4bbc-8888-9586ca72eb8b"
      },
      "execution_count": null,
      "outputs": [
        {
          "output_type": "stream",
          "name": "stdout",
          "text": [
            "Epoch 1/50\n",
            "863/863 [==============================] - 5s 4ms/step - loss: 151665632.0000 - mse: 151665632.0000 - val_loss: 58905220.0000 - val_mse: 58905220.0000\n",
            "Epoch 2/50\n",
            "863/863 [==============================] - 4s 4ms/step - loss: 16624515.0000 - mse: 16624515.0000 - val_loss: 9825263.0000 - val_mse: 9825263.0000\n",
            "Epoch 3/50\n",
            "863/863 [==============================] - 3s 4ms/step - loss: 5845760.5000 - mse: 5845760.5000 - val_loss: 6795745.5000 - val_mse: 6795745.5000\n",
            "Epoch 4/50\n",
            "863/863 [==============================] - 3s 4ms/step - loss: 4284179.5000 - mse: 4284179.5000 - val_loss: 5201794.0000 - val_mse: 5201794.0000\n",
            "Epoch 5/50\n",
            "863/863 [==============================] - 4s 4ms/step - loss: 3532718.5000 - mse: 3532718.5000 - val_loss: 4276740.5000 - val_mse: 4276740.5000\n",
            "Epoch 6/50\n",
            "863/863 [==============================] - 3s 4ms/step - loss: 3063144.0000 - mse: 3063144.0000 - val_loss: 3629872.5000 - val_mse: 3629872.5000\n",
            "Epoch 7/50\n",
            "863/863 [==============================] - 3s 4ms/step - loss: 2741800.7500 - mse: 2741801.2500 - val_loss: 3153085.2500 - val_mse: 3153085.2500\n",
            "Epoch 8/50\n",
            "863/863 [==============================] - 3s 4ms/step - loss: 2521937.7500 - mse: 2521937.7500 - val_loss: 2899078.7500 - val_mse: 2899078.7500\n",
            "Epoch 9/50\n",
            "863/863 [==============================] - 4s 4ms/step - loss: 2360429.0000 - mse: 2360429.0000 - val_loss: 2697726.7500 - val_mse: 2697726.7500\n",
            "Epoch 10/50\n",
            "863/863 [==============================] - 3s 4ms/step - loss: 2248730.0000 - mse: 2248730.0000 - val_loss: 2546336.7500 - val_mse: 2546336.7500\n",
            "Epoch 11/50\n",
            "863/863 [==============================] - 4s 4ms/step - loss: 2158876.7500 - mse: 2158876.7500 - val_loss: 2450966.5000 - val_mse: 2450966.5000\n",
            "Epoch 12/50\n",
            "863/863 [==============================] - 4s 4ms/step - loss: 2097429.2500 - mse: 2097429.2500 - val_loss: 2447527.2500 - val_mse: 2447527.5000\n",
            "Epoch 13/50\n",
            "863/863 [==============================] - 3s 4ms/step - loss: 2066759.0000 - mse: 2066758.7500 - val_loss: 2427294.2500 - val_mse: 2427294.2500\n",
            "Epoch 14/50\n",
            "863/863 [==============================] - 3s 3ms/step - loss: 2035662.1250 - mse: 2035662.1250 - val_loss: 2358890.7500 - val_mse: 2358890.7500\n",
            "Epoch 15/50\n",
            "863/863 [==============================] - 3s 4ms/step - loss: 1992525.0000 - mse: 1992525.0000 - val_loss: 2326103.0000 - val_mse: 2326103.0000\n",
            "Epoch 16/50\n",
            "863/863 [==============================] - 4s 5ms/step - loss: 1977756.5000 - mse: 1977756.5000 - val_loss: 2301936.5000 - val_mse: 2301936.5000\n",
            "Epoch 17/50\n",
            "863/863 [==============================] - 3s 4ms/step - loss: 1945212.8750 - mse: 1945212.7500 - val_loss: 2288808.7500 - val_mse: 2288808.7500\n",
            "Epoch 18/50\n",
            "863/863 [==============================] - 3s 4ms/step - loss: 1926710.7500 - mse: 1926710.7500 - val_loss: 2240145.5000 - val_mse: 2240145.5000\n",
            "Epoch 19/50\n",
            "863/863 [==============================] - 3s 4ms/step - loss: 1912110.5000 - mse: 1912110.5000 - val_loss: 2226416.0000 - val_mse: 2226415.7500\n",
            "Epoch 20/50\n",
            "863/863 [==============================] - 4s 4ms/step - loss: 1890808.3750 - mse: 1890808.3750 - val_loss: 2209323.5000 - val_mse: 2209323.5000\n",
            "Epoch 21/50\n",
            "863/863 [==============================] - 3s 3ms/step - loss: 1874009.5000 - mse: 1874009.5000 - val_loss: 2163716.5000 - val_mse: 2163716.5000\n",
            "Epoch 22/50\n",
            "863/863 [==============================] - 5s 6ms/step - loss: 1852741.2500 - mse: 1852741.2500 - val_loss: 2127359.2500 - val_mse: 2127359.2500\n",
            "Epoch 23/50\n",
            "863/863 [==============================] - 4s 4ms/step - loss: 1831425.8750 - mse: 1831425.8750 - val_loss: 2123588.0000 - val_mse: 2123588.0000\n",
            "Epoch 24/50\n",
            "863/863 [==============================] - 3s 4ms/step - loss: 1824050.6250 - mse: 1824050.6250 - val_loss: 2086606.3750 - val_mse: 2086606.3750\n",
            "Epoch 25/50\n",
            "863/863 [==============================] - 3s 4ms/step - loss: 1806791.0000 - mse: 1806791.0000 - val_loss: 2067282.8750 - val_mse: 2067282.6250\n",
            "Epoch 26/50\n",
            "863/863 [==============================] - 4s 4ms/step - loss: 1795333.1250 - mse: 1795333.1250 - val_loss: 2076175.0000 - val_mse: 2076175.0000\n",
            "Epoch 27/50\n",
            "863/863 [==============================] - 3s 4ms/step - loss: 1786523.3750 - mse: 1786523.3750 - val_loss: 2048651.8750 - val_mse: 2048651.8750\n",
            "Epoch 28/50\n",
            "863/863 [==============================] - 3s 4ms/step - loss: 1773698.2500 - mse: 1773698.2500 - val_loss: 2036468.6250 - val_mse: 2036468.6250\n",
            "Epoch 29/50\n",
            "863/863 [==============================] - 3s 4ms/step - loss: 1764534.6250 - mse: 1764534.6250 - val_loss: 2033088.3750 - val_mse: 2033088.3750\n",
            "Epoch 30/50\n",
            "863/863 [==============================] - 4s 5ms/step - loss: 1752081.1250 - mse: 1752081.1250 - val_loss: 2021058.2500 - val_mse: 2021058.2500\n",
            "Epoch 31/50\n",
            "863/863 [==============================] - 3s 3ms/step - loss: 1739044.7500 - mse: 1739044.7500 - val_loss: 1977443.8750 - val_mse: 1977443.8750\n",
            "Epoch 32/50\n",
            "863/863 [==============================] - 3s 4ms/step - loss: 1725573.5000 - mse: 1725573.5000 - val_loss: 1987924.8750 - val_mse: 1987924.8750\n",
            "Epoch 33/50\n",
            "863/863 [==============================] - 3s 4ms/step - loss: 1725142.5000 - mse: 1725142.5000 - val_loss: 1985487.1250 - val_mse: 1985487.2500\n",
            "Epoch 34/50\n",
            "863/863 [==============================] - 3s 4ms/step - loss: 1716474.2500 - mse: 1716474.2500 - val_loss: 1961254.6250 - val_mse: 1961254.6250\n",
            "Epoch 35/50\n",
            "863/863 [==============================] - 3s 4ms/step - loss: 1706976.0000 - mse: 1706976.0000 - val_loss: 1962387.3750 - val_mse: 1962387.3750\n",
            "Epoch 36/50\n",
            "863/863 [==============================] - 3s 4ms/step - loss: 1695849.5000 - mse: 1695849.5000 - val_loss: 1953274.2500 - val_mse: 1953274.2500\n",
            "Epoch 37/50\n",
            "863/863 [==============================] - 4s 4ms/step - loss: 1690533.5000 - mse: 1690533.5000 - val_loss: 1983756.0000 - val_mse: 1983756.0000\n",
            "Epoch 38/50\n",
            "863/863 [==============================] - 3s 4ms/step - loss: 1682178.2500 - mse: 1682178.0000 - val_loss: 1929112.5000 - val_mse: 1929112.2500\n",
            "Epoch 39/50\n",
            "863/863 [==============================] - 3s 4ms/step - loss: 1670259.3750 - mse: 1670259.3750 - val_loss: 1931310.8750 - val_mse: 1931310.7500\n",
            "Epoch 40/50\n",
            "863/863 [==============================] - 3s 4ms/step - loss: 1669364.6250 - mse: 1669364.6250 - val_loss: 1895053.5000 - val_mse: 1895053.5000\n",
            "Epoch 41/50\n",
            "863/863 [==============================] - 4s 4ms/step - loss: 1660899.1250 - mse: 1660899.1250 - val_loss: 1884974.6250 - val_mse: 1884974.6250\n",
            "Epoch 42/50\n",
            "863/863 [==============================] - 3s 4ms/step - loss: 1652586.7500 - mse: 1652586.7500 - val_loss: 1889285.8750 - val_mse: 1889285.8750\n",
            "Epoch 43/50\n",
            "863/863 [==============================] - 3s 4ms/step - loss: 1647522.5000 - mse: 1647522.5000 - val_loss: 1907848.8750 - val_mse: 1907848.8750\n",
            "Epoch 44/50\n",
            "863/863 [==============================] - 3s 4ms/step - loss: 1643047.3750 - mse: 1643047.3750 - val_loss: 1861852.5000 - val_mse: 1861852.5000\n",
            "Epoch 45/50\n",
            "863/863 [==============================] - 4s 4ms/step - loss: 1629690.8750 - mse: 1629690.8750 - val_loss: 1866188.6250 - val_mse: 1866188.6250\n",
            "Epoch 46/50\n",
            "863/863 [==============================] - 3s 4ms/step - loss: 1626200.1250 - mse: 1626200.1250 - val_loss: 1853096.8750 - val_mse: 1853096.8750\n",
            "Epoch 47/50\n",
            "863/863 [==============================] - 3s 4ms/step - loss: 1626714.3750 - mse: 1626714.3750 - val_loss: 1886611.2500 - val_mse: 1886611.2500\n",
            "Epoch 48/50\n",
            "863/863 [==============================] - 3s 4ms/step - loss: 1620762.8750 - mse: 1620763.1250 - val_loss: 1853512.6250 - val_mse: 1853512.6250\n",
            "Epoch 49/50\n",
            "863/863 [==============================] - 4s 4ms/step - loss: 1606175.0000 - mse: 1606175.0000 - val_loss: 1783661.0000 - val_mse: 1783661.0000\n",
            "Epoch 50/50\n",
            "863/863 [==============================] - 3s 4ms/step - loss: 1600214.6250 - mse: 1600214.6250 - val_loss: 1853195.8750 - val_mse: 1853195.8750\n"
          ]
        }
      ]
    },
    {
      "cell_type": "markdown",
      "source": [
        "##Model adjustment"
      ],
      "metadata": {
        "id": "57XtOBwu5Fpq"
      }
    },
    {
      "cell_type": "code",
      "source": [
        "import HappyML.model_drawer as md\n",
        "md.epochs_metrics_plot(epochs_metrics.history, keys = (\"loss\", \"val_loss\"),\n",
        "     title = \"Loss of Training V.S. Validating\", xyLabel = (\"Epochs\", \"Loss\"))\n",
        "md.epochs_metrics_plot(epochs_metrics.history, keys = (\"mse\", \"val_mse\"),\n",
        "     title = \"MSE of Training V.S. Validating\", xyLabel = (\"Epochs\", \"MSE\"))"
      ],
      "metadata": {
        "colab": {
          "base_uri": "https://localhost:8080/",
          "height": 927
        },
        "id": "Mj9KOM5V5H9W",
        "outputId": "ea33b8a7-7e8a-4d6f-c57b-1a06af8ee0fc"
      },
      "execution_count": null,
      "outputs": [
        {
          "output_type": "display_data",
          "data": {
            "text/plain": [
              "<Figure size 640x480 with 1 Axes>"
            ],
            "image/png": "[encoded data removed]"
          },
          "metadata": {}
        },
        {
          "output_type": "display_data",
          "data": {
            "text/plain": [
              "<Figure size 640x480 with 1 Axes>"
            ],
            "image/png": "[encoded data removed]"
          },
          "metadata": {}
        }
      ]
    },
    {
      "cell_type": "markdown",
      "source": [
        "##Answer prediction\n"
      ],
      "metadata": {
        "id": "_32yXy1z5OXt"
      }
    },
    {
      "cell_type": "code",
      "source": [
        "Y_pred = pd.DataFrame(model.predict(x=X_test), index=Y_test.index, columns=Y_test.columns)\n",
        "df_predict = pd.concat([Y_test, Y_pred], axis=1)\n",
        "print(df_predict)"
      ],
      "metadata": {
        "colab": {
          "base_uri": "https://localhost:8080/"
        },
        "id": "mL94rjdt5UKg",
        "outputId": "3b87d4b9-de6b-449c-8da8-9b2315fdb5de"
      },
      "execution_count": null,
      "outputs": [
        {
          "output_type": "stream",
          "name": "stdout",
          "text": [
            "43/43 [==============================] - 0s 2ms/step\n",
            "      price         price\n",
            "2527  11295  11444.078125\n",
            "134   18995  18448.933594\n",
            "4844   8950   9838.582031\n",
            "3638   9995  10104.289062\n",
            "98    15990  18255.511719\n",
            "...     ...           ...\n",
            "3214  13998  15044.382812\n",
            "1042  10495  10283.922852\n",
            "1116   9233   9560.322266\n",
            "5723  22498  24092.113281\n",
            "1362  12295  12099.458008\n",
            "\n",
            "[1348 rows x 2 columns]\n"
          ]
        }
      ]
    },
    {
      "cell_type": "markdown",
      "source": [
        "##Model evaluation"
      ],
      "metadata": {
        "id": "3-8YxLcj5cqi"
      }
    },
    {
      "cell_type": "code",
      "source": [
        "test_loss, test_mse = model.evaluate(X_test, Y_test)\n",
        "print(\"Loss of Testing Set:\", test_loss)\n",
        "print(\"MSE of Testing Set:\", test_mse)"
      ],
      "metadata": {
        "colab": {
          "base_uri": "https://localhost:8080/"
        },
        "id": "AzAQT8vs5fQ6",
        "outputId": "db7b3f83-a12e-40a8-c4aa-fe5060f928e9"
      },
      "execution_count": null,
      "outputs": [
        {
          "output_type": "stream",
          "name": "stdout",
          "text": [
            "43/43 [==============================] - 0s 4ms/step - loss: 1601035.6250 - mse: 1601035.6250\n",
            "Loss of Testing Set: 1601035.625\n",
            "MSE of Testing Set: 1601035.625\n"
          ]
        }
      ]
    }
  ]
}