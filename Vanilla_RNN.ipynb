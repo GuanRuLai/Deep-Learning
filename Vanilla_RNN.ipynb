{
  "nbformat": 4,
  "nbformat_minor": 0,
  "metadata": {
    "colab": {
      "provenance": [],
      "authorship_tag": "ABX9TyOLLecnezbj6U9xk78Emtnp",
      "include_colab_link": true
    },
    "kernelspec": {
      "name": "python3",
      "display_name": "Python 3"
    },
    "language_info": {
      "name": "python"
    }
  },
  "cells": [
    {
      "cell_type": "markdown",
      "metadata": {
        "id": "view-in-github",
        "colab_type": "text"
      },
      "source": [
        "<a href=\"https://colab.research.google.com/github/GuanRuLai/Python-Deep-Learning/blob/main/Vanilla_RNN.ipynb\" target=\"_parent\"><img src=\"https://colab.research.google.com/assets/colab-badge.svg\" alt=\"Open In Colab\"/></a>"
      ]
    },
    {
      "cell_type": "code",
      "execution_count": 22,
      "metadata": {
        "id": "93T8-gRrhvsL"
      },
      "outputs": [],
      "source": [
        "# import dataset\n",
        "\n",
        "import os\n",
        "\n",
        "if not os.path.isdir(\"HappyML\"):\n",
        "    os.system(\"git clone https://github.com/cnchi/HappyML.git\")\n",
        "\n",
        "df = \"Meals.csv\"\n",
        "\n",
        "if not os.path.isfile(df):\n",
        "  os.system(\"wget https://raw.githubusercontent.com/cnchi/datasets/master/\" + df)"
      ]
    },
    {
      "cell_type": "code",
      "source": [
        "# set customizable constants\n",
        "\n",
        "train_size = 0.75\n",
        "\n",
        "win_size = 2\n",
        "sample_step = 1\n",
        "win_moving = 1\n",
        "\n",
        "data_batch = 10"
      ],
      "metadata": {
        "id": "NztxFHrdQoZu"
      },
      "execution_count": 23,
      "outputs": []
    },
    {
      "cell_type": "code",
      "source": [
        "import HappyML.preprocessor as pp\n",
        "import numpy as np\n",
        "\n",
        "dataset = pp.dataset(file=\"Meals.csv\")\n",
        "\n",
        "# keep \"meal\" column only\n",
        "dataset = pp.onehot_encoder(dataset, columns=[1]).iloc[:, 1:]\n",
        "print(dataset)"
      ],
      "metadata": {
        "colab": {
          "base_uri": "https://localhost:8080/"
        },
        "id": "CGtmvn43c1bH",
        "outputId": "7aa8465c-bd00-4718-9a80-b72fce659eb0"
      },
      "execution_count": 24,
      "outputs": [
        {
          "output_type": "stream",
          "name": "stdout",
          "text": [
            "    Meal_大魯麵  Meal_煎餃  Meal_自助餐  Meal_黃金炒飯\n",
            "0          0        1         0          0\n",
            "1          0        0         1          0\n",
            "2          1        0         0          0\n",
            "3          0        0         1          0\n",
            "4          0        0         0          1\n",
            "5          1        0         0          0\n",
            "6          0        1         0          0\n",
            "7          0        0         1          0\n",
            "8          1        0         0          0\n",
            "9          0        0         1          0\n",
            "10         0        0         0          1\n",
            "11         1        0         0          0\n",
            "12         0        1         0          0\n",
            "13         0        0         1          0\n",
            "14         1        0         0          0\n",
            "15         0        0         1          0\n",
            "16         0        0         0          1\n",
            "17         1        0         0          0\n",
            "18         0        1         0          0\n",
            "19         0        0         1          0\n",
            "20         1        0         0          0\n",
            "21         0        0         1          0\n",
            "22         0        0         0          1\n",
            "23         1        0         0          0\n",
            "24         0        1         0          0\n",
            "25         0        0         1          0\n",
            "26         1        0         0          0\n",
            "27         0        0         1          0\n",
            "28         0        0         0          1\n",
            "29         1        0         0          0\n",
            "30         0        1         0          0\n"
          ]
        }
      ]
    },
    {
      "cell_type": "code",
      "source": [
        "# keep the One Hot Encoding Mapping\n",
        "mapper = [s[5:] for s in list(dataset.columns)]\n",
        "\n",
        "# convert dataset from DataFrame as NDArray\n",
        "dataset = dataset.values\n",
        "train_data, test_data = np.split(dataset, [int(train_size * len(dataset))])\n",
        "# print(train_data)\n",
        "# print(test_data)"
      ],
      "metadata": {
        "id": "ivWcuC7TeSqa"
      },
      "execution_count": 25,
      "outputs": []
    },
    {
      "cell_type": "code",
      "source": [
        "# generate training and testing set\n",
        "\n",
        "from tensorflow.keras.preprocessing.sequence import TimeseriesGenerator\n",
        "\n",
        "train_set = TimeseriesGenerator(\n",
        "        data=train_data, # dependent variable X\n",
        "        targets=train_data,  # independent variable Y\n",
        "        length=win_size,\n",
        "        sampling_rate=sample_step,\n",
        "        stride=win_moving,\n",
        "        batch_size=data_batch)\n",
        "\n",
        "test_set = TimeseriesGenerator(\n",
        "        data=test_data, # dependent variable X\n",
        "        targets=test_data, # independent variable Y\n",
        "        length=win_size,\n",
        "        sampling_rate=sample_step,\n",
        "        stride=win_moving,\n",
        "        batch_size=data_batch)"
      ],
      "metadata": {
        "id": "vqj7I4XWiDIC"
      },
      "execution_count": 28,
      "outputs": []
    },
    {
      "cell_type": "code",
      "source": [
        "# create Model\n",
        "\n",
        "from tensorflow.keras.models import Sequential\n",
        "from tensorflow.keras import layers\n",
        "\n",
        "model = Sequential()\n",
        "model.add(layers.SimpleRNN(units=10, input_shape=(win_size, dataset.shape[1])))\n",
        "model.add(layers.Dense(units=dataset.shape[1], activation=\"softmax\"))"
      ],
      "metadata": {
        "id": "CUhw9IF5jKXu"
      },
      "execution_count": 31,
      "outputs": []
    },
    {
      "cell_type": "code",
      "source": [
        "# model compiling\n",
        "\n",
        "model.compile(optimizer=\"rmsprop\", loss=\"categorical_crossentropy\", metrics=[\"acc\"])"
      ],
      "metadata": {
        "id": "1-90AU-Mpv-H"
      },
      "execution_count": 32,
      "outputs": []
    },
    {
      "cell_type": "code",
      "source": [
        "# model training\n",
        "# run multiple times of RNN can raise up the accuracy\n",
        "\n",
        "model.fit(train_set, epochs=25)"
      ],
      "metadata": {
        "colab": {
          "base_uri": "https://localhost:8080/"
        },
        "id": "LFnfuQAAp0dW",
        "outputId": "05c3c775-a02e-4f79-b1c2-087e97269792"
      },
      "execution_count": 33,
      "outputs": [
        {
          "output_type": "stream",
          "name": "stdout",
          "text": [
            "Epoch 1/25\n",
            "3/3 [==============================] - 1s 6ms/step - loss: 1.3146 - acc: 0.2857\n",
            "Epoch 2/25\n",
            "3/3 [==============================] - 0s 4ms/step - loss: 1.2728 - acc: 0.2857\n",
            "Epoch 3/25\n",
            "3/3 [==============================] - 0s 5ms/step - loss: 1.2493 - acc: 0.4286\n",
            "Epoch 4/25\n",
            "3/3 [==============================] - 0s 5ms/step - loss: 1.2273 - acc: 0.5238\n",
            "Epoch 5/25\n",
            "3/3 [==============================] - 0s 4ms/step - loss: 1.2107 - acc: 0.6190\n",
            "Epoch 6/25\n",
            "3/3 [==============================] - 0s 4ms/step - loss: 1.1975 - acc: 0.6667\n",
            "Epoch 7/25\n",
            "3/3 [==============================] - 0s 4ms/step - loss: 1.1801 - acc: 0.8095\n",
            "Epoch 8/25\n",
            "3/3 [==============================] - 0s 4ms/step - loss: 1.1660 - acc: 0.8095\n",
            "Epoch 9/25\n",
            "3/3 [==============================] - 0s 4ms/step - loss: 1.1539 - acc: 0.8095\n",
            "Epoch 10/25\n",
            "3/3 [==============================] - 0s 4ms/step - loss: 1.1391 - acc: 0.8095\n",
            "Epoch 11/25\n",
            "3/3 [==============================] - 0s 6ms/step - loss: 1.1273 - acc: 0.8095\n",
            "Epoch 12/25\n",
            "3/3 [==============================] - 0s 3ms/step - loss: 1.1145 - acc: 0.8095\n",
            "Epoch 13/25\n",
            "3/3 [==============================] - 0s 3ms/step - loss: 1.1020 - acc: 0.8095\n",
            "Epoch 14/25\n",
            "3/3 [==============================] - 0s 4ms/step - loss: 1.0882 - acc: 0.8095\n",
            "Epoch 15/25\n",
            "3/3 [==============================] - 0s 4ms/step - loss: 1.0760 - acc: 0.8095\n",
            "Epoch 16/25\n",
            "3/3 [==============================] - 0s 4ms/step - loss: 1.0653 - acc: 0.8095\n",
            "Epoch 17/25\n",
            "3/3 [==============================] - 0s 4ms/step - loss: 1.0535 - acc: 0.8095\n",
            "Epoch 18/25\n",
            "3/3 [==============================] - 0s 5ms/step - loss: 1.0407 - acc: 0.8095\n",
            "Epoch 19/25\n",
            "3/3 [==============================] - 0s 6ms/step - loss: 1.0293 - acc: 0.8095\n",
            "Epoch 20/25\n",
            "3/3 [==============================] - 0s 4ms/step - loss: 1.0190 - acc: 0.8095\n",
            "Epoch 21/25\n",
            "3/3 [==============================] - 0s 4ms/step - loss: 1.0070 - acc: 0.8095\n",
            "Epoch 22/25\n",
            "3/3 [==============================] - 0s 4ms/step - loss: 0.9971 - acc: 0.8095\n",
            "Epoch 23/25\n",
            "3/3 [==============================] - 0s 4ms/step - loss: 0.9860 - acc: 0.8095\n",
            "Epoch 24/25\n",
            "3/3 [==============================] - 0s 5ms/step - loss: 0.9743 - acc: 0.8095\n",
            "Epoch 25/25\n",
            "3/3 [==============================] - 0s 4ms/step - loss: 0.9646 - acc: 0.8095\n"
          ]
        },
        {
          "output_type": "execute_result",
          "data": {
            "text/plain": [
              "<keras.src.callbacks.History at 0x7a4300463a30>"
            ]
          },
          "metadata": {},
          "execution_count": 33
        }
      ]
    },
    {
      "cell_type": "code",
      "source": [
        "# model evaluation\n",
        "\n",
        "test_loss, test_acc = model.evaluate(test_set)\n",
        "print(\"Loss of Test Set:\", test_loss)\n",
        "print(\"Accuracy of Test Set:\", test_acc)"
      ],
      "metadata": {
        "colab": {
          "base_uri": "https://localhost:8080/"
        },
        "id": "5pY2IC-0qVCI",
        "outputId": "205aa8dd-2271-472b-f6ff-859010d2d589"
      },
      "execution_count": 34,
      "outputs": [
        {
          "output_type": "stream",
          "name": "stdout",
          "text": [
            "1/1 [==============================] - 0s 188ms/step - loss: 0.9432 - acc: 0.8333\n",
            "Loss of Test Set: 0.9432282447814941\n",
            "Accuracy of Test Set: 0.8333333134651184\n"
          ]
        }
      ]
    },
    {
      "cell_type": "code",
      "source": [
        "# answer prediction\n",
        "\n",
        "Y_pred = np.argmax(model.predict(test_set), axis=-1)\n",
        "Y_real = np.argmax(test_set[0][1], axis=-1) # Y of testing set\n",
        "print(\"Prediction:\", [mapper[i] for i in Y_pred])\n",
        "print(\"Real Value:\", [mapper[i] for i in Y_real])"
      ],
      "metadata": {
        "colab": {
          "base_uri": "https://localhost:8080/"
        },
        "id": "RoOedQLiqaih",
        "outputId": "d7a158f6-8c74-4a2e-9975-628e67cd8b75"
      },
      "execution_count": 35,
      "outputs": [
        {
          "output_type": "stream",
          "name": "stdout",
          "text": [
            "1/1 [==============================] - 0s 167ms/step\n",
            "Prediction: ['自助餐', '大魯麵', '大魯麵', '黃金炒飯', '大魯麵', '煎餃']\n",
            "Real Value: ['自助餐', '大魯麵', '自助餐', '黃金炒飯', '大魯麵', '煎餃']\n"
          ]
        }
      ]
    },
    {
      "cell_type": "code",
      "source": [
        "# user input prediction\n",
        "\n",
        "from tensorflow.keras.utils import to_categorical\n",
        "\n",
        "meals = []\n",
        "meals += [mapper.index(input(\"請問你前天吃什麼：\"))]\n",
        "meals += [mapper.index(input(\"請問你昨天吃什麼：\"))]\n",
        "\n",
        "meals = np.reshape(to_categorical(meals, dataset.shape[1]), (1, win_size, dataset.shape[1]))\n",
        "meal_today = np.argmax(model.predict(meals), axis=-1)\n",
        "print(\"我猜你今天會吃：\", mapper[meal_today[0]])"
      ],
      "metadata": {
        "colab": {
          "base_uri": "https://localhost:8080/"
        },
        "id": "s9ponQctq-Mr",
        "outputId": "51296e8f-4ccd-47ae-d22d-e28452f0c9e6"
      },
      "execution_count": 37,
      "outputs": [
        {
          "output_type": "stream",
          "name": "stdout",
          "text": [
            "請問你前天吃什麼：煎餃\n",
            "請問你昨天吃什麼：自助餐\n",
            "1/1 [==============================] - 0s 16ms/step\n",
            "我猜你今天會吃： 大魯麵\n"
          ]
        }
      ]
    }
  ]
}